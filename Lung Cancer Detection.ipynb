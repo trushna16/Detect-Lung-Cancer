{
 "cells": [
  {
   "cell_type": "markdown",
   "id": "ab6d26a4",
   "metadata": {},
   "source": [
    "# Detect Lung Cancer using patient diagnosis data."
   ]
  },
  {
   "cell_type": "code",
   "execution_count": 11,
   "id": "bc03c9c0",
   "metadata": {},
   "outputs": [],
   "source": [
    "import pandas as pd\n",
    "import numpy as np\n",
    "import matplotlib.pyplot as plt\n",
    "import seaborn as sns\n",
    "from sklearn.model_selection import train_test_split, GridSearchCV\n",
    "from sklearn.preprocessing import StandardScaler, LabelEncoder\n",
    "from sklearn.ensemble import RandomForestClassifier\n",
    "from sklearn.metrics import accuracy_score, classification_report, roc_auc_score"
   ]
  },
  {
   "cell_type": "code",
   "execution_count": 12,
   "id": "2a679f41",
   "metadata": {},
   "outputs": [
    {
     "name": "stdout",
     "output_type": "stream",
     "text": [
      "\n",
      "First few rows of the dataset:\n",
      "   id   age  gender      country diagnosis_date cancer_stage family_history  \\\n",
      "0   1  64.0    Male       Sweden     2016-04-05      Stage I            Yes   \n",
      "1   2  50.0  Female  Netherlands     2023-04-20    Stage III            Yes   \n",
      "2   3  65.0  Female      Hungary     2023-04-05    Stage III            Yes   \n",
      "3   4  51.0  Female      Belgium     2016-02-05      Stage I             No   \n",
      "4   5  37.0    Male   Luxembourg     2023-11-29      Stage I             No   \n",
      "\n",
      "   smoking_status   bmi  cholesterol_level  hypertension  asthma  cirrhosis  \\\n",
      "0  Passive Smoker  29.4                199             0       0          1   \n",
      "1  Passive Smoker  41.2                280             1       1          0   \n",
      "2   Former Smoker  44.0                268             1       1          0   \n",
      "3  Passive Smoker  43.0                241             1       1          0   \n",
      "4  Passive Smoker  19.7                178             0       0          0   \n",
      "\n",
      "   other_cancer treatment_type end_treatment_date  survived  \n",
      "0             0   Chemotherapy         2017-09-10         0  \n",
      "1             0        Surgery         2024-06-17         1  \n",
      "2             0       Combined         2024-04-09         0  \n",
      "3             0   Chemotherapy         2017-04-23         0  \n",
      "4             0       Combined         2025-01-08         0  \n",
      "\n",
      "\n",
      "Dataset Info:\n",
      "<class 'pandas.core.frame.DataFrame'>\n",
      "RangeIndex: 890000 entries, 0 to 889999\n",
      "Data columns (total 17 columns):\n",
      " #   Column              Non-Null Count   Dtype  \n",
      "---  ------              --------------   -----  \n",
      " 0   id                  890000 non-null  int64  \n",
      " 1   age                 890000 non-null  float64\n",
      " 2   gender              890000 non-null  object \n",
      " 3   country             890000 non-null  object \n",
      " 4   diagnosis_date      890000 non-null  object \n",
      " 5   cancer_stage        890000 non-null  object \n",
      " 6   family_history      890000 non-null  object \n",
      " 7   smoking_status      890000 non-null  object \n",
      " 8   bmi                 890000 non-null  float64\n",
      " 9   cholesterol_level   890000 non-null  int64  \n",
      " 10  hypertension        890000 non-null  int64  \n",
      " 11  asthma              890000 non-null  int64  \n",
      " 12  cirrhosis           890000 non-null  int64  \n",
      " 13  other_cancer        890000 non-null  int64  \n",
      " 14  treatment_type      890000 non-null  object \n",
      " 15  end_treatment_date  890000 non-null  object \n",
      " 16  survived            890000 non-null  int64  \n",
      "dtypes: float64(2), int64(7), object(8)\n",
      "memory usage: 115.4+ MB\n"
     ]
    }
   ],
   "source": [
    "# Load dataset\n",
    "df = pd.read_csv(\"dataset_med.csv\")\n",
    "\n",
    "print(\"\\nFirst few rows of the dataset:\")\n",
    "print(df.head())\n",
    "\n",
    "print(\"\\n\\nDataset Info:\")\n",
    "df.info()"
   ]
  },
  {
   "cell_type": "code",
   "execution_count": 13,
   "id": "92938ac6",
   "metadata": {},
   "outputs": [
    {
     "name": "stdout",
     "output_type": "stream",
     "text": [
      "\n",
      "Summary Statistics:\n",
      "                  id            age            bmi  cholesterol_level  \\\n",
      "count  890000.000000  890000.000000  890000.000000      890000.000000   \n",
      "mean   445000.500000      55.007008      30.494172         233.633916   \n",
      "std    256921.014128       9.994485       8.368539          43.432278   \n",
      "min         1.000000       4.000000      16.000000         150.000000   \n",
      "25%    222500.750000      48.000000      23.300000         196.000000   \n",
      "50%    445000.500000      55.000000      30.500000         242.000000   \n",
      "75%    667500.250000      62.000000      37.700000         271.000000   \n",
      "max    890000.000000     104.000000      45.000000         300.000000   \n",
      "\n",
      "        hypertension         asthma      cirrhosis   other_cancer  \\\n",
      "count  890000.000000  890000.000000  890000.000000  890000.000000   \n",
      "mean        0.750024       0.469740       0.225956       0.088157   \n",
      "std         0.432999       0.499084       0.418211       0.283524   \n",
      "min         0.000000       0.000000       0.000000       0.000000   \n",
      "25%         1.000000       0.000000       0.000000       0.000000   \n",
      "50%         1.000000       0.000000       0.000000       0.000000   \n",
      "75%         1.000000       1.000000       0.000000       0.000000   \n",
      "max         1.000000       1.000000       1.000000       1.000000   \n",
      "\n",
      "            survived  \n",
      "count  890000.000000  \n",
      "mean        0.220229  \n",
      "std         0.414401  \n",
      "min         0.000000  \n",
      "25%         0.000000  \n",
      "50%         0.000000  \n",
      "75%         0.000000  \n",
      "max         1.000000  \n"
     ]
    }
   ],
   "source": [
    "print(\"\\nSummary Statistics:\")\n",
    "print(df.describe())"
   ]
  },
  {
   "cell_type": "code",
   "execution_count": 14,
   "id": "92a3bea7",
   "metadata": {},
   "outputs": [
    {
     "name": "stderr",
     "output_type": "stream",
     "text": [
      "C:\\Users\\Trushna\\AppData\\Local\\Temp\\ipykernel_12216\\3991989262.py:2: FutureWarning: Dropping of nuisance columns in DataFrame reductions (with 'numeric_only=None') is deprecated; in a future version this will raise TypeError.  Select only valid columns before calling the reduction.\n",
      "  df.fillna(df.median(), inplace=True)\n"
     ]
    },
    {
     "name": "stdout",
     "output_type": "stream",
     "text": [
      "\n",
      "Missing Values After Cleaning:\n",
      "id                    0\n",
      "age                   0\n",
      "gender                0\n",
      "country               0\n",
      "diagnosis_date        0\n",
      "cancer_stage          0\n",
      "family_history        0\n",
      "smoking_status        0\n",
      "bmi                   0\n",
      "cholesterol_level     0\n",
      "hypertension          0\n",
      "asthma                0\n",
      "cirrhosis             0\n",
      "other_cancer          0\n",
      "treatment_type        0\n",
      "end_treatment_date    0\n",
      "survived              0\n",
      "dtype: int64\n"
     ]
    }
   ],
   "source": [
    "#Handling missing values\n",
    "df.fillna(df.median(), inplace=True)\n",
    "\n",
    "categorical_cols = df.select_dtypes(include=['object']).columns\n",
    "for col in categorical_cols:\n",
    "    df[col].fillna(df[col].mode()[0], inplace=True)\n",
    "\n",
    "print(\"\\nMissing Values After Cleaning:\")\n",
    "print(df.isnull().sum())\n"
   ]
  },
  {
   "cell_type": "code",
   "execution_count": 15,
   "id": "a146eeca",
   "metadata": {},
   "outputs": [
    {
     "name": "stdout",
     "output_type": "stream",
     "text": [
      "\n",
      "Dataset After Feature Engineering:\n",
      "    age  gender  country  cancer_stage  family_history  smoking_status   bmi  \\\n",
      "0  64.0       1       26             0               1               3  29.4   \n",
      "1  50.0       0       19             2               1               3  41.2   \n",
      "2  65.0       0       12             2               1               1  44.0   \n",
      "3  51.0       0        1             0               0               3  43.0   \n",
      "4  37.0       1       17             0               0               3  19.7   \n",
      "\n",
      "   cholesterol_level  hypertension  asthma  cirrhosis  other_cancer  \\\n",
      "0                199             0       0          1             0   \n",
      "1                280             1       1          0             0   \n",
      "2                268             1       1          0             0   \n",
      "3                241             1       1          0             0   \n",
      "4                178             0       0          0             0   \n",
      "\n",
      "   treatment_type  survived  treatment_duration_days  \n",
      "0               0         0                      523  \n",
      "1               3         1                      424  \n",
      "2               1         0                      370  \n",
      "3               0         0                      443  \n",
      "4               1         0                      406  \n"
     ]
    }
   ],
   "source": [
    "# Converting categorical columns to numerical\n",
    "categorical_cols = ['gender', 'country', 'cancer_stage', 'family_history', 'smoking_status', \n",
    "                    'hypertension', 'asthma', 'cirrhosis', 'other_cancer', 'treatment_type', 'survived']\n",
    "\n",
    "for col in categorical_cols:\n",
    "    le = LabelEncoder()\n",
    "    df[col] = le.fit_transform(df[col])\n",
    "\n",
    "# Convering date columns to datetime format\n",
    "df['diagnosis_date'] = pd.to_datetime(df['diagnosis_date'])\n",
    "df['end_treatment_date'] = pd.to_datetime(df['end_treatment_date'])\n",
    "df['treatment_duration_days'] = (df['end_treatment_date'] - df['diagnosis_date']).dt.days\n",
    "df.drop(['id', 'diagnosis_date', 'end_treatment_date'], axis=1, inplace=True)\n",
    "\n",
    "print(\"\\nDataset After Feature Engineering:\")\n",
    "print(df.head())\n"
   ]
  },
  {
   "cell_type": "code",
   "execution_count": 16,
   "id": "5d9b9591",
   "metadata": {},
   "outputs": [
    {
     "name": "stdout",
     "output_type": "stream",
     "text": [
      "\n",
      "Scaled Numeric Features:\n",
      "        age       bmi  cholesterol_level  treatment_duration_days\n",
      "0  0.899796 -0.130748          -0.797424                 0.465906\n",
      "1 -0.500977  1.279296           1.067550                -0.244658\n",
      "2  0.999851  1.613882           0.791257                -0.632238\n",
      "3 -0.400922  1.494387           0.169599                -0.108287\n",
      "4 -1.801696 -1.289852          -1.280936                -0.373851\n"
     ]
    }
   ],
   "source": [
    "# Scale numeric features\n",
    "scaler = StandardScaler()\n",
    "numeric_cols = ['age', 'bmi', 'cholesterol_level', 'treatment_duration_days']\n",
    "df[numeric_cols] = scaler.fit_transform(df[numeric_cols])\n",
    "\n",
    "print(\"\\nScaled Numeric Features:\")\n",
    "print(df[numeric_cols].head())\n"
   ]
  },
  {
   "cell_type": "code",
   "execution_count": 17,
   "id": "0d3e9710",
   "metadata": {},
   "outputs": [],
   "source": [
    "# Seperating features and target variable\n",
    "X = df.drop(\"survived\", axis=1)\n",
    "y = df[\"survived\"]"
   ]
  },
  {
   "cell_type": "code",
   "execution_count": 18,
   "id": "dc906ca3",
   "metadata": {},
   "outputs": [
    {
     "name": "stdout",
     "output_type": "stream",
     "text": [
      "\n",
      "Shape of Training and Testing Data:\n",
      "X_train shape: (712000, 14)\n",
      "X_test shape: (178000, 14)\n"
     ]
    }
   ],
   "source": [
    "# Split the data into training and testing sets\n",
    "X_train, X_test, y_train, y_test = train_test_split(X, y, test_size=0.2, random_state=42)\n",
    "\n",
    "print(\"\\nShape of Training and Testing Data:\")\n",
    "print(\"X_train shape:\", X_train.shape)\n",
    "print(\"X_test shape:\", X_test.shape)"
   ]
  },
  {
   "cell_type": "code",
   "execution_count": 19,
   "id": "a55b286d",
   "metadata": {},
   "outputs": [
    {
     "data": {
      "image/png": "[encoded data removed]",
      "text/plain": [
       "<Figure size 720x432 with 1 Axes>"
      ]
     },
     "metadata": {
      "needs_background": "light"
     },
     "output_type": "display_data"
    }
   ],
   "source": [
    "# Initialize and train the RandomForestClassifier\n",
    "model = RandomForestClassifier(n_estimators=100, random_state=42)\n",
    "model.fit(X_train, y_train)\n",
    "\n",
    "feature_importances = model.feature_importances_\n",
    "features = X.columns\n",
    "\n",
    "#Feature Importances\n",
    "plt.figure(figsize=(10, 6))\n",
    "sns.barplot(x=features, y=feature_importances)\n",
    "plt.title(\"Feature Importance from RandomForest Model\")\n",
    "plt.xticks(rotation=90)\n",
    "plt.show()\n"
   ]
  },
  {
   "cell_type": "code",
   "execution_count": 20,
   "id": "1ba6eaa0",
   "metadata": {},
   "outputs": [],
   "source": [
    "# Predictions\n",
    "y_pred = model.predict(X_test)"
   ]
  },
  {
   "cell_type": "code",
   "execution_count": 21,
   "id": "bf3bb3ba",
   "metadata": {},
   "outputs": [
    {
     "name": "stdout",
     "output_type": "stream",
     "text": [
      "\n",
      "Accuracy of the Model: 0.7787303370786517\n"
     ]
    }
   ],
   "source": [
    "# Accuracy\n",
    "accuracy = accuracy_score(y_test, y_pred)\n",
    "print(\"\\nAccuracy of the Model:\", accuracy)"
   ]
  },
  {
   "cell_type": "code",
   "execution_count": 22,
   "id": "328ae7d1",
   "metadata": {},
   "outputs": [
    {
     "name": "stdout",
     "output_type": "stream",
     "text": [
      "\n",
      "Classification Report:\n",
      "              precision    recall  f1-score   support\n",
      "\n",
      "           0       0.78      1.00      0.88    138639\n",
      "           1       0.21      0.00      0.00     39361\n",
      "\n",
      "    accuracy                           0.78    178000\n",
      "   macro avg       0.49      0.50      0.44    178000\n",
      "weighted avg       0.65      0.78      0.68    178000\n",
      "\n"
     ]
    }
   ],
   "source": [
    "# Classification Report\n",
    "print(\"\\nClassification Report:\")\n",
    "print(classification_report(y_test, y_pred))"
   ]
  },
  {
   "cell_type": "code",
   "execution_count": 23,
   "id": "1e29f062",
   "metadata": {},
   "outputs": [
    {
     "name": "stdout",
     "output_type": "stream",
     "text": [
      "\n",
      "ROC-AUC Score: 0.5007144779482658\n"
     ]
    }
   ],
   "source": [
    "# ROC-AUC Score\n",
    "roc_auc = roc_auc_score(y_test, model.predict_proba(X_test)[:, 1])\n",
    "print(\"\\nROC-AUC Score:\", roc_auc)"
   ]
  },
  {
   "cell_type": "code",
   "execution_count": null,
   "id": "bf6fcf3d",
   "metadata": {},
   "outputs": [],
   "source": []
  }
 ],
 "metadata": {
  "kernelspec": {
   "display_name": "Python 3 (ipykernel)",
   "language": "python",
   "name": "python3"
  },
  "language_info": {
   "codemirror_mode": {
    "name": "ipython",
    "version": 3
   },
   "file_extension": ".py",
   "mimetype": "text/x-python",
   "name": "python",
   "nbconvert_exporter": "python",
   "pygments_lexer": "ipython3",
   "version": "3.9.12"
  }
 },
 "nbformat": 4,
 "nbformat_minor": 5
}
